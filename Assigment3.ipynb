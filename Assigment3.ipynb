{
 "cells": [
  {
   "cell_type": "code",
   "execution_count": 4,
   "id": "a368ebc4",
   "metadata": {},
   "outputs": [],
   "source": [
    "\n",
    "import numpy as np\n"
   ]
  },
  {
   "cell_type": "code",
   "execution_count": 16,
   "id": "2869eb8e",
   "metadata": {},
   "outputs": [
    {
     "data": {
      "text/plain": [
       "array([[13,  4,  9],\n",
       "       [18,  7,  2],\n",
       "       [18,  7,  7]], dtype=int32)"
      ]
     },
     "execution_count": 16,
     "metadata": {},
     "output_type": "execute_result"
    }
   ],
   "source": [
    "#Example 1\n",
    "arr=np.random.randint(1,20,size=(3,3))\n",
    "arr"
   ]
  },
  {
   "cell_type": "code",
   "execution_count": null,
   "id": "dac4991a",
   "metadata": {},
   "outputs": [
    {
     "name": "stdout",
     "output_type": "stream",
     "text": [
      "the element of arr[[21 35 11 71 92]\n",
      " [69 10 36  7 87]\n",
      " [12 72 93 99 91]\n",
      " [80 71  4  3 42]\n",
      " [21 32 30 35 83]]\n",
      "the max value of row [80 72 93 99 92]\n",
      "the min value of row [12 10  4  3 42]\n"
     ]
    },
    {
     "name": "stderr",
     "output_type": "stream",
     "text": [
      "C:\\Users\\SHREEN\\AppData\\Local\\Temp\\ipykernel_8328\\112394885.py:2: DeprecationWarning: This function is deprecated. Please call randint(1, 100 + 1) instead\n",
      "  arr=np.random.random_integers(1,100,size=(5,5))\n"
     ]
    }
   ],
   "source": [
    "#Example 2\n",
    "arr=np.random.random_integers(1,100,size=(5,5))\n",
    "print(f\"the element of arr{arr}\")\n",
    "max_arr=np.max(arr,axis=0)\n",
    "print (f\"the max value of row {max_arr}\")\n",
    "min_arr=np.min(arr,axis=0)\n",
    "print (f\"the min value of row {min_arr}\")\n"
   ]
  },
  {
   "cell_type": "code",
   "execution_count": 40,
   "id": "c172d4e4",
   "metadata": {},
   "outputs": [
    {
     "data": {
      "text/plain": [
       "array([0.07294669, 0.32088549, 0.38486292, 0.38538577, 0.42424429,\n",
       "       0.43525121, 0.47602805, 0.58759275, 0.89207518, 0.89885548])"
      ]
     },
     "execution_count": 40,
     "metadata": {},
     "output_type": "execute_result"
    }
   ],
   "source": [
    "#Example 3\n",
    "arr=np.random.rand(10)\n",
    "sorted_arr=np.sort(arr)\n",
    "sorted_arr"
   ]
  },
  {
   "cell_type": "code",
   "execution_count": 45,
   "id": "7467124a",
   "metadata": {},
   "outputs": [
    {
     "data": {
      "text/plain": [
       "np.int64(4)"
      ]
     },
     "execution_count": 45,
     "metadata": {},
     "output_type": "execute_result"
    }
   ],
   "source": [
    "#Example 4\n",
    "arr=np.array(([1,2,3,4,56,4],[2,2,5,7,8,4],[3,9,7,5,4,3]))\n",
    "uniqu_arr,counts=np.unique(arr,return_counts=True)\n",
    "frequency=uniqu_arr[np.argmax(counts)]\n",
    "frequency"
   ]
  },
  {
   "cell_type": "code",
   "execution_count": 47,
   "id": "64e1162a",
   "metadata": {},
   "outputs": [
    {
     "data": {
      "text/plain": [
       "array([[ 1,  0,  3,  0],\n",
       "       [ 5,  0,  7,  0],\n",
       "       [ 9,  0, 11, 13]])"
      ]
     },
     "execution_count": 47,
     "metadata": {},
     "output_type": "execute_result"
    }
   ],
   "source": [
    "#Example 5\n",
    "arr=np.array([[1,2,3,4],[5,6,7,8],[9,12,11,13]])\n",
    "arr[arr%2==0]=0\n",
    "arr"
   ]
  },
  {
   "cell_type": "code",
   "execution_count": 49,
   "id": "cb3d77e2",
   "metadata": {},
   "outputs": [
    {
     "data": {
      "text/plain": [
       "array([ 4,  9, 16, 25, 36, 49, 64, 81])"
      ]
     },
     "execution_count": 49,
     "metadata": {},
     "output_type": "execute_result"
    }
   ],
   "source": [
    "#Example 6\n",
    "arr=np.array([2,3,4,5,6,7,8,9])\n",
    "squar=arr**2\n",
    "squar"
   ]
  },
  {
   "cell_type": "code",
   "execution_count": 57,
   "id": "98392286",
   "metadata": {},
   "outputs": [
    {
     "name": "stdout",
     "output_type": "stream",
     "text": [
      "[[29 25 22]\n",
      " [50 23 29]\n",
      " [46 20 17]]\n",
      "the value of mean=29.0\n"
     ]
    },
    {
     "name": "stderr",
     "output_type": "stream",
     "text": [
      "C:\\Users\\SHREEN\\AppData\\Local\\Temp\\ipykernel_8328\\4139855147.py:2: DeprecationWarning: This function is deprecated. Please call randint(1, 50 + 1) instead\n",
      "  arr=np.random.random_integers(1,50,size=(3,3))\n"
     ]
    },
    {
     "data": {
      "text/plain": [
       "array([[  0.,  -4.,  -7.],\n",
       "       [ 21.,  -6.,   0.],\n",
       "       [ 17.,  -9., -12.]])"
      ]
     },
     "execution_count": 57,
     "metadata": {},
     "output_type": "execute_result"
    }
   ],
   "source": [
    "#Example 7\n",
    "arr=np.random.random_integers(1,50,size=(3,3))\n",
    "print(f\"{arr}\")\n",
    "mean_arr=np.mean(arr)\n",
    "print(f\"the value of mean={mean_arr}\")\n",
    "subtract_mean=arr-mean_arr\n",
    "subtract_mean"
   ]
  },
  {
   "cell_type": "code",
   "execution_count": 65,
   "id": "ce8a52c2",
   "metadata": {},
   "outputs": [
    {
     "name": "stdout",
     "output_type": "stream",
     "text": [
      "[ 1.          3.05263158  5.10526316  7.15789474  9.21052632 11.26315789\n",
      " 13.31578947 15.36842105 17.42105263 19.47368421 21.52631579 23.57894737\n",
      " 25.63157895 27.68421053 29.73684211 31.78947368 33.84210526 35.89473684\n",
      " 37.94736842 40.        ]\n"
     ]
    }
   ],
   "source": [
    "#Example 8\n",
    "line_space=np.linspace(1,40,20)\n",
    "print(f\"{line_space}\")\n"
   ]
  },
  {
   "cell_type": "code",
   "execution_count": 67,
   "id": "b53801c5",
   "metadata": {},
   "outputs": [
    {
     "name": "stdout",
     "output_type": "stream",
     "text": [
      "[ 1  3  5  7  9 11 13 15 17 19 21 23 25 27 29 31 33 35 37 39]\n"
     ]
    }
   ],
   "source": [
    "#another solution\n",
    "odd_uum=np.arange(1,40,2)\n",
    "print(f\"{odd_uum}\")\n"
   ]
  },
  {
   "cell_type": "code",
   "execution_count": 9,
   "id": "16f44bfc",
   "metadata": {},
   "outputs": [
    {
     "name": "stdout",
     "output_type": "stream",
     "text": [
      "[[33 33 48 22 13]\n",
      " [42 29 11  6 43]\n",
      " [18 50 47 12 19]\n",
      " [46 30 13 35 17]\n",
      " [16 24 39 47 45]]\n",
      "the max value=[42 33 47 35 43]\n"
     ]
    },
    {
     "name": "stderr",
     "output_type": "stream",
     "text": [
      "C:\\Users\\SHREEN\\AppData\\Local\\Temp\\ipykernel_14840\\3878838087.py:2: DeprecationWarning: This function is deprecated. Please call randint(1, 50 + 1) instead\n",
      "  arr=np.random.random_integers(1,50,size=(5,5))\n"
     ]
    }
   ],
   "source": [
    "#Example 9\n",
    "arr=np.random.random_integers(1,50,size=(5,5))\n",
    "print(f\"{arr}\")\n",
    "sort_arr=np.sort(arr,axis=0)\n",
    "max_element=sort_arr[-2,:]\n",
    "print (f\"the max value={max_element}\")\n"
   ]
  },
  {
   "cell_type": "code",
   "execution_count": 11,
   "id": "9f69bbd9",
   "metadata": {},
   "outputs": [
    {
     "name": "stdout",
     "output_type": "stream",
     "text": [
      "[[47 19 23 45]\n",
      " [13 43 47 40]\n",
      " [10 11  4 25]\n",
      " [ 9  8 46 41]]\n",
      "sum each row =[134 143  50 104]\n"
     ]
    },
    {
     "name": "stderr",
     "output_type": "stream",
     "text": [
      "C:\\Users\\SHREEN\\AppData\\Local\\Temp\\ipykernel_14840\\845987436.py:2: DeprecationWarning: This function is deprecated. Please call randint(1, 50 + 1) instead\n",
      "  arr=np.random.random_integers(1,50,size=(4,4))\n"
     ]
    }
   ],
   "source": [
    "#Example 10\n",
    "arr=np.random.random_integers(1,50,size=(4,4))\n",
    "print(f\"{arr}\")\n",
    "sum_row=arr.sum(axis=1)\n",
    "print(f\"sum each row ={sum_row}\")"
   ]
  }
 ],
 "metadata": {
  "kernelspec": {
   "display_name": "base",
   "language": "python",
   "name": "python3"
  },
  "language_info": {
   "codemirror_mode": {
    "name": "ipython",
    "version": 3
   },
   "file_extension": ".py",
   "mimetype": "text/x-python",
   "name": "python",
   "nbconvert_exporter": "python",
   "pygments_lexer": "ipython3",
   "version": "3.13.5"
  }
 },
 "nbformat": 4,
 "nbformat_minor": 5
}
